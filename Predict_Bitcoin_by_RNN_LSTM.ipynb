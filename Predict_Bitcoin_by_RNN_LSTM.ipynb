{
  "nbformat": 4,
  "nbformat_minor": 0,
  "metadata": {
    "colab": {
      "name": "Predict Bitcoin by RNN.ipynb",
      "provenance": [],
      "collapsed_sections": []
    },
    "kernelspec": {
      "name": "python3",
      "display_name": "Python 3"
    },
    "accelerator": "GPU"
  },
  "cells": [
    {
      "cell_type": "code",
      "metadata": {
        "id": "_Yt9gstKg2UO",
        "colab_type": "code",
        "colab": {
          "base_uri": "https://localhost:8080/",
          "height": 35
        },
        "outputId": "0ac0397a-ba7c-41a0-97a8-fc7e87c9dbb8"
      },
      "source": [
        "cd \"/content/drive/My Drive/Predict Bitcoin\""
      ],
      "execution_count": 1,
      "outputs": [
        {
          "output_type": "stream",
          "text": [
            "/content/drive/My Drive/Predict Bitcoin\n"
          ],
          "name": "stdout"
        }
      ]
    },
    {
      "cell_type": "code",
      "metadata": {
        "id": "kl-yJdgtg3ys",
        "colab_type": "code",
        "colab": {}
      },
      "source": [
        "bitstamp_path = \"./bitstampUSD_1-min_data_2012-01-01_to_2020-04-22.csv\"\n",
        "coinbase = \"./coinbaseUSD_1-min_data_2014-12-01_to_2019-01-09.csv\""
      ],
      "execution_count": 0,
      "outputs": []
    },
    {
      "cell_type": "code",
      "metadata": {
        "id": "mGxToCEGjtdt",
        "colab_type": "code",
        "colab": {}
      },
      "source": [
        "import pandas as pd\n",
        "import numpy as np\n",
        "import matplotlib.pyplot as plt"
      ],
      "execution_count": 0,
      "outputs": []
    },
    {
      "cell_type": "code",
      "metadata": {
        "id": "eDKf_wE_j-XZ",
        "colab_type": "code",
        "colab": {}
      },
      "source": [
        "bit_data = pd.read_csv(bitstamp_path)\n",
        "coin_data = pd.read_csv(coinbase)"
      ],
      "execution_count": 0,
      "outputs": []
    },
    {
      "cell_type": "code",
      "metadata": {
        "id": "fKoKHK11kVqv",
        "colab_type": "code",
        "colab": {}
      },
      "source": [
        "bit_data['date'] = pd.to_datetime(bit_data['Timestamp'], unit = 's').dt.date"
      ],
      "execution_count": 0,
      "outputs": []
    },
    {
      "cell_type": "code",
      "metadata": {
        "id": "TWLnTWg6l-_O",
        "colab_type": "code",
        "colab": {
          "base_uri": "https://localhost:8080/",
          "height": 609
        },
        "outputId": "dab7796c-7355-4cd6-8364-4951f187d71e"
      },
      "source": [
        "bit_data"
      ],
      "execution_count": 14,
      "outputs": [
        {
          "output_type": "execute_result",
          "data": {
            "text/html": [
              "<div>\n",
              "<style scoped>\n",
              "    .dataframe tbody tr th:only-of-type {\n",
              "        vertical-align: middle;\n",
              "    }\n",
              "\n",
              "    .dataframe tbody tr th {\n",
              "        vertical-align: top;\n",
              "    }\n",
              "\n",
              "    .dataframe thead th {\n",
              "        text-align: right;\n",
              "    }\n",
              "</style>\n",
              "<table border=\"1\" class=\"dataframe\">\n",
              "  <thead>\n",
              "    <tr style=\"text-align: right;\">\n",
              "      <th></th>\n",
              "      <th>Timestamp</th>\n",
              "      <th>Open</th>\n",
              "      <th>High</th>\n",
              "      <th>Low</th>\n",
              "      <th>Close</th>\n",
              "      <th>Volume_(BTC)</th>\n",
              "      <th>Volume_(Currency)</th>\n",
              "      <th>Weighted_Price</th>\n",
              "      <th>date</th>\n",
              "    </tr>\n",
              "  </thead>\n",
              "  <tbody>\n",
              "    <tr>\n",
              "      <th>0</th>\n",
              "      <td>1325317920</td>\n",
              "      <td>4.39</td>\n",
              "      <td>4.39</td>\n",
              "      <td>4.39</td>\n",
              "      <td>4.39</td>\n",
              "      <td>0.455581</td>\n",
              "      <td>2.000000</td>\n",
              "      <td>4.390000</td>\n",
              "      <td>2011-12-31</td>\n",
              "    </tr>\n",
              "    <tr>\n",
              "      <th>1</th>\n",
              "      <td>1325317980</td>\n",
              "      <td>NaN</td>\n",
              "      <td>NaN</td>\n",
              "      <td>NaN</td>\n",
              "      <td>NaN</td>\n",
              "      <td>NaN</td>\n",
              "      <td>NaN</td>\n",
              "      <td>NaN</td>\n",
              "      <td>2011-12-31</td>\n",
              "    </tr>\n",
              "    <tr>\n",
              "      <th>2</th>\n",
              "      <td>1325318040</td>\n",
              "      <td>NaN</td>\n",
              "      <td>NaN</td>\n",
              "      <td>NaN</td>\n",
              "      <td>NaN</td>\n",
              "      <td>NaN</td>\n",
              "      <td>NaN</td>\n",
              "      <td>NaN</td>\n",
              "      <td>2011-12-31</td>\n",
              "    </tr>\n",
              "    <tr>\n",
              "      <th>3</th>\n",
              "      <td>1325318100</td>\n",
              "      <td>NaN</td>\n",
              "      <td>NaN</td>\n",
              "      <td>NaN</td>\n",
              "      <td>NaN</td>\n",
              "      <td>NaN</td>\n",
              "      <td>NaN</td>\n",
              "      <td>NaN</td>\n",
              "      <td>2011-12-31</td>\n",
              "    </tr>\n",
              "    <tr>\n",
              "      <th>4</th>\n",
              "      <td>1325318160</td>\n",
              "      <td>NaN</td>\n",
              "      <td>NaN</td>\n",
              "      <td>NaN</td>\n",
              "      <td>NaN</td>\n",
              "      <td>NaN</td>\n",
              "      <td>NaN</td>\n",
              "      <td>NaN</td>\n",
              "      <td>2011-12-31</td>\n",
              "    </tr>\n",
              "    <tr>\n",
              "      <th>...</th>\n",
              "      <td>...</td>\n",
              "      <td>...</td>\n",
              "      <td>...</td>\n",
              "      <td>...</td>\n",
              "      <td>...</td>\n",
              "      <td>...</td>\n",
              "      <td>...</td>\n",
              "      <td>...</td>\n",
              "      <td>...</td>\n",
              "    </tr>\n",
              "    <tr>\n",
              "      <th>4363452</th>\n",
              "      <td>1587513360</td>\n",
              "      <td>6847.97</td>\n",
              "      <td>6856.35</td>\n",
              "      <td>6847.97</td>\n",
              "      <td>6856.35</td>\n",
              "      <td>0.125174</td>\n",
              "      <td>858.128697</td>\n",
              "      <td>6855.498790</td>\n",
              "      <td>2020-04-21</td>\n",
              "    </tr>\n",
              "    <tr>\n",
              "      <th>4363453</th>\n",
              "      <td>1587513420</td>\n",
              "      <td>6850.23</td>\n",
              "      <td>6856.13</td>\n",
              "      <td>6850.23</td>\n",
              "      <td>6850.89</td>\n",
              "      <td>1.224777</td>\n",
              "      <td>8396.781459</td>\n",
              "      <td>6855.763449</td>\n",
              "      <td>2020-04-21</td>\n",
              "    </tr>\n",
              "    <tr>\n",
              "      <th>4363454</th>\n",
              "      <td>1587513480</td>\n",
              "      <td>6846.50</td>\n",
              "      <td>6857.45</td>\n",
              "      <td>6846.02</td>\n",
              "      <td>6857.45</td>\n",
              "      <td>7.089168</td>\n",
              "      <td>48533.089069</td>\n",
              "      <td>6846.090966</td>\n",
              "      <td>2020-04-21</td>\n",
              "    </tr>\n",
              "    <tr>\n",
              "      <th>4363455</th>\n",
              "      <td>1587513540</td>\n",
              "      <td>6854.18</td>\n",
              "      <td>6854.98</td>\n",
              "      <td>6854.18</td>\n",
              "      <td>6854.98</td>\n",
              "      <td>0.012231</td>\n",
              "      <td>83.831604</td>\n",
              "      <td>6854.195090</td>\n",
              "      <td>2020-04-21</td>\n",
              "    </tr>\n",
              "    <tr>\n",
              "      <th>4363456</th>\n",
              "      <td>1587513600</td>\n",
              "      <td>6850.60</td>\n",
              "      <td>6850.60</td>\n",
              "      <td>6850.60</td>\n",
              "      <td>6850.60</td>\n",
              "      <td>0.014436</td>\n",
              "      <td>98.896906</td>\n",
              "      <td>6850.600000</td>\n",
              "      <td>2020-04-22</td>\n",
              "    </tr>\n",
              "  </tbody>\n",
              "</table>\n",
              "<p>4363457 rows × 9 columns</p>\n",
              "</div>"
            ],
            "text/plain": [
              "          Timestamp     Open  ...  Weighted_Price        date\n",
              "0        1325317920     4.39  ...        4.390000  2011-12-31\n",
              "1        1325317980      NaN  ...             NaN  2011-12-31\n",
              "2        1325318040      NaN  ...             NaN  2011-12-31\n",
              "3        1325318100      NaN  ...             NaN  2011-12-31\n",
              "4        1325318160      NaN  ...             NaN  2011-12-31\n",
              "...             ...      ...  ...             ...         ...\n",
              "4363452  1587513360  6847.97  ...     6855.498790  2020-04-21\n",
              "4363453  1587513420  6850.23  ...     6855.763449  2020-04-21\n",
              "4363454  1587513480  6846.50  ...     6846.090966  2020-04-21\n",
              "4363455  1587513540  6854.18  ...     6854.195090  2020-04-21\n",
              "4363456  1587513600  6850.60  ...     6850.600000  2020-04-22\n",
              "\n",
              "[4363457 rows x 9 columns]"
            ]
          },
          "metadata": {
            "tags": []
          },
          "execution_count": 14
        }
      ]
    },
    {
      "cell_type": "code",
      "metadata": {
        "id": "T2b4HliWmLTv",
        "colab_type": "code",
        "colab": {}
      },
      "source": [
        "group = bit_data.groupby('date')"
      ],
      "execution_count": 0,
      "outputs": []
    },
    {
      "cell_type": "code",
      "metadata": {
        "id": "IHpy2woymO4-",
        "colab_type": "code",
        "colab": {
          "base_uri": "https://localhost:8080/",
          "height": 609
        },
        "outputId": "0eadcca2-4e27-44a3-fd20-c975a5371867"
      },
      "source": [
        "group.head(5)\n"
      ],
      "execution_count": 13,
      "outputs": [
        {
          "output_type": "execute_result",
          "data": {
            "text/html": [
              "<div>\n",
              "<style scoped>\n",
              "    .dataframe tbody tr th:only-of-type {\n",
              "        vertical-align: middle;\n",
              "    }\n",
              "\n",
              "    .dataframe tbody tr th {\n",
              "        vertical-align: top;\n",
              "    }\n",
              "\n",
              "    .dataframe thead th {\n",
              "        text-align: right;\n",
              "    }\n",
              "</style>\n",
              "<table border=\"1\" class=\"dataframe\">\n",
              "  <thead>\n",
              "    <tr style=\"text-align: right;\">\n",
              "      <th></th>\n",
              "      <th>Timestamp</th>\n",
              "      <th>Open</th>\n",
              "      <th>High</th>\n",
              "      <th>Low</th>\n",
              "      <th>Close</th>\n",
              "      <th>Volume_(BTC)</th>\n",
              "      <th>Volume_(Currency)</th>\n",
              "      <th>Weighted_Price</th>\n",
              "      <th>date</th>\n",
              "    </tr>\n",
              "  </thead>\n",
              "  <tbody>\n",
              "    <tr>\n",
              "      <th>0</th>\n",
              "      <td>1325317920</td>\n",
              "      <td>4.39</td>\n",
              "      <td>4.39</td>\n",
              "      <td>4.39</td>\n",
              "      <td>4.39</td>\n",
              "      <td>0.455581</td>\n",
              "      <td>2.000000</td>\n",
              "      <td>4.390000</td>\n",
              "      <td>2011-12-31</td>\n",
              "    </tr>\n",
              "    <tr>\n",
              "      <th>1</th>\n",
              "      <td>1325317980</td>\n",
              "      <td>NaN</td>\n",
              "      <td>NaN</td>\n",
              "      <td>NaN</td>\n",
              "      <td>NaN</td>\n",
              "      <td>NaN</td>\n",
              "      <td>NaN</td>\n",
              "      <td>NaN</td>\n",
              "      <td>2011-12-31</td>\n",
              "    </tr>\n",
              "    <tr>\n",
              "      <th>2</th>\n",
              "      <td>1325318040</td>\n",
              "      <td>NaN</td>\n",
              "      <td>NaN</td>\n",
              "      <td>NaN</td>\n",
              "      <td>NaN</td>\n",
              "      <td>NaN</td>\n",
              "      <td>NaN</td>\n",
              "      <td>NaN</td>\n",
              "      <td>2011-12-31</td>\n",
              "    </tr>\n",
              "    <tr>\n",
              "      <th>3</th>\n",
              "      <td>1325318100</td>\n",
              "      <td>NaN</td>\n",
              "      <td>NaN</td>\n",
              "      <td>NaN</td>\n",
              "      <td>NaN</td>\n",
              "      <td>NaN</td>\n",
              "      <td>NaN</td>\n",
              "      <td>NaN</td>\n",
              "      <td>2011-12-31</td>\n",
              "    </tr>\n",
              "    <tr>\n",
              "      <th>4</th>\n",
              "      <td>1325318160</td>\n",
              "      <td>NaN</td>\n",
              "      <td>NaN</td>\n",
              "      <td>NaN</td>\n",
              "      <td>NaN</td>\n",
              "      <td>NaN</td>\n",
              "      <td>NaN</td>\n",
              "      <td>NaN</td>\n",
              "      <td>2011-12-31</td>\n",
              "    </tr>\n",
              "    <tr>\n",
              "      <th>...</th>\n",
              "      <td>...</td>\n",
              "      <td>...</td>\n",
              "      <td>...</td>\n",
              "      <td>...</td>\n",
              "      <td>...</td>\n",
              "      <td>...</td>\n",
              "      <td>...</td>\n",
              "      <td>...</td>\n",
              "      <td>...</td>\n",
              "    </tr>\n",
              "    <tr>\n",
              "      <th>4362017</th>\n",
              "      <td>1587427260</td>\n",
              "      <td>6824.40</td>\n",
              "      <td>6837.13</td>\n",
              "      <td>6821.26</td>\n",
              "      <td>6837.13</td>\n",
              "      <td>9.370150</td>\n",
              "      <td>64015.647342</td>\n",
              "      <td>6831.870216</td>\n",
              "      <td>2020-04-21</td>\n",
              "    </tr>\n",
              "    <tr>\n",
              "      <th>4362018</th>\n",
              "      <td>1587427320</td>\n",
              "      <td>6849.75</td>\n",
              "      <td>6863.77</td>\n",
              "      <td>6844.93</td>\n",
              "      <td>6857.31</td>\n",
              "      <td>6.147032</td>\n",
              "      <td>42113.893983</td>\n",
              "      <td>6851.094434</td>\n",
              "      <td>2020-04-21</td>\n",
              "    </tr>\n",
              "    <tr>\n",
              "      <th>4362019</th>\n",
              "      <td>1587427380</td>\n",
              "      <td>6851.25</td>\n",
              "      <td>6857.62</td>\n",
              "      <td>6844.07</td>\n",
              "      <td>6857.62</td>\n",
              "      <td>0.239654</td>\n",
              "      <td>1640.909046</td>\n",
              "      <td>6846.991535</td>\n",
              "      <td>2020-04-21</td>\n",
              "    </tr>\n",
              "    <tr>\n",
              "      <th>4362020</th>\n",
              "      <td>1587427440</td>\n",
              "      <td>6850.41</td>\n",
              "      <td>6857.61</td>\n",
              "      <td>6836.75</td>\n",
              "      <td>6836.75</td>\n",
              "      <td>6.578205</td>\n",
              "      <td>45066.453020</td>\n",
              "      <td>6850.873641</td>\n",
              "      <td>2020-04-21</td>\n",
              "    </tr>\n",
              "    <tr>\n",
              "      <th>4363456</th>\n",
              "      <td>1587513600</td>\n",
              "      <td>6850.60</td>\n",
              "      <td>6850.60</td>\n",
              "      <td>6850.60</td>\n",
              "      <td>6850.60</td>\n",
              "      <td>0.014436</td>\n",
              "      <td>98.896906</td>\n",
              "      <td>6850.600000</td>\n",
              "      <td>2020-04-22</td>\n",
              "    </tr>\n",
              "  </tbody>\n",
              "</table>\n",
              "<p>15161 rows × 9 columns</p>\n",
              "</div>"
            ],
            "text/plain": [
              "          Timestamp     Open  ...  Weighted_Price        date\n",
              "0        1325317920     4.39  ...        4.390000  2011-12-31\n",
              "1        1325317980      NaN  ...             NaN  2011-12-31\n",
              "2        1325318040      NaN  ...             NaN  2011-12-31\n",
              "3        1325318100      NaN  ...             NaN  2011-12-31\n",
              "4        1325318160      NaN  ...             NaN  2011-12-31\n",
              "...             ...      ...  ...             ...         ...\n",
              "4362017  1587427260  6824.40  ...     6831.870216  2020-04-21\n",
              "4362018  1587427320  6849.75  ...     6851.094434  2020-04-21\n",
              "4362019  1587427380  6851.25  ...     6846.991535  2020-04-21\n",
              "4362020  1587427440  6850.41  ...     6850.873641  2020-04-21\n",
              "4363456  1587513600  6850.60  ...     6850.600000  2020-04-22\n",
              "\n",
              "[15161 rows x 9 columns]"
            ]
          },
          "metadata": {
            "tags": []
          },
          "execution_count": 13
        }
      ]
    },
    {
      "cell_type": "code",
      "metadata": {
        "id": "yaw2dvqdnSgb",
        "colab_type": "code",
        "colab": {}
      },
      "source": [
        "data = group['Close'].mean()"
      ],
      "execution_count": 0,
      "outputs": []
    },
    {
      "cell_type": "code",
      "metadata": {
        "id": "trMAuYjQncPN",
        "colab_type": "code",
        "colab": {
          "base_uri": "https://localhost:8080/",
          "height": 143
        },
        "outputId": "392628ac-6c2a-403d-af87-198f5033494d"
      },
      "source": [
        "data.head()"
      ],
      "execution_count": 16,
      "outputs": [
        {
          "output_type": "execute_result",
          "data": {
            "text/plain": [
              "date\n",
              "2011-12-31    4.482500\n",
              "2012-01-01    4.806667\n",
              "2012-01-02    5.000000\n",
              "2012-01-03    5.252500\n",
              "2012-01-04    5.223333\n",
              "Name: Close, dtype: float64"
            ]
          },
          "metadata": {
            "tags": []
          },
          "execution_count": 16
        }
      ]
    },
    {
      "cell_type": "code",
      "metadata": {
        "id": "rIw5a5bMnhYo",
        "colab_type": "code",
        "colab": {
          "base_uri": "https://localhost:8080/",
          "height": 35
        },
        "outputId": "536e6145-1217-41ad-e70b-6c9a32aa2abe"
      },
      "source": [
        "data.isnull().sum()"
      ],
      "execution_count": 18,
      "outputs": [
        {
          "output_type": "execute_result",
          "data": {
            "text/plain": [
              "0"
            ]
          },
          "metadata": {
            "tags": []
          },
          "execution_count": 18
        }
      ]
    },
    {
      "cell_type": "code",
      "metadata": {
        "id": "J2e8SI94oNoX",
        "colab_type": "code",
        "colab": {}
      },
      "source": [
        "close_train = data.iloc[:(len(data))-50].values\n",
        "close_test = data.iloc[(len(data)-50):].values"
      ],
      "execution_count": 0,
      "outputs": []
    },
    {
      "cell_type": "code",
      "metadata": {
        "id": "IgLZA9_Wog1N",
        "colab_type": "code",
        "colab": {}
      },
      "source": [
        "close_train = close_train.reshape(close_train.shape[0],1)\n",
        "close_test = close_test.reshape(close_test.shape[0],1)"
      ],
      "execution_count": 0,
      "outputs": []
    },
    {
      "cell_type": "code",
      "metadata": {
        "id": "V69yawNoos6u",
        "colab_type": "code",
        "colab": {
          "base_uri": "https://localhost:8080/",
          "height": 35
        },
        "outputId": "62ebbda5-768a-4656-f79b-38af2a026819"
      },
      "source": [
        "close_train.shape"
      ],
      "execution_count": 27,
      "outputs": [
        {
          "output_type": "execute_result",
          "data": {
            "text/plain": [
              "(2983, 1)"
            ]
          },
          "metadata": {
            "tags": []
          },
          "execution_count": 27
        }
      ]
    },
    {
      "cell_type": "code",
      "metadata": {
        "id": "_fKDF6Vlo3Ib",
        "colab_type": "code",
        "colab": {}
      },
      "source": [
        "from sklearn.preprocessing import MinMaxScaler\n",
        "\n",
        "scaler = MinMaxScaler(feature_range=(0,1))\n",
        "close_scaled = scaler.fit_transform(close_train)"
      ],
      "execution_count": 0,
      "outputs": []
    },
    {
      "cell_type": "code",
      "metadata": {
        "id": "dS5BZmQBpOPZ",
        "colab_type": "code",
        "colab": {}
      },
      "source": [
        "timestep = 50\n",
        "x_train = []\n",
        "y_train = []\n",
        "\n",
        "for i in range(timestep, close_scaled.shape[0]):\n",
        "    x_train.append(close_scaled[i-timestep:i,0])\n",
        "    y_train.append(close_scaled[i,0])\n",
        "\n",
        "x_train, y_train = np.array(x_train), np.array(y_train)\n"
      ],
      "execution_count": 0,
      "outputs": []
    },
    {
      "cell_type": "code",
      "metadata": {
        "id": "6Ca4n0Phq-G_",
        "colab_type": "code",
        "colab": {}
      },
      "source": [
        "x_train = x_train.reshape(x_train.shape[0], x_train.shape[1], 1)"
      ],
      "execution_count": 0,
      "outputs": []
    },
    {
      "cell_type": "code",
      "metadata": {
        "id": "NUCqf1xPrGTN",
        "colab_type": "code",
        "colab": {
          "base_uri": "https://localhost:8080/",
          "height": 53
        },
        "outputId": "60b47683-f2c6-41df-832f-15c1d5ba2136"
      },
      "source": [
        "print(\"x_train shape= \",x_train.shape)\n",
        "print(\"y_train shape= \",y_train.shape)"
      ],
      "execution_count": 35,
      "outputs": [
        {
          "output_type": "stream",
          "text": [
            "x_train shape=  (2933, 50, 1)\n",
            "y_train shape=  (2933,)\n"
          ],
          "name": "stdout"
        }
      ]
    },
    {
      "cell_type": "code",
      "metadata": {
        "id": "bUhTMcLIrXk1",
        "colab_type": "code",
        "colab": {}
      },
      "source": [
        "input_test = data.iloc[len(data)-len(close_test)-timestep:].values\n",
        "input_test = input_test.reshape(-1,1)\n",
        "input_test = scaler.transform(input_test)"
      ],
      "execution_count": 0,
      "outputs": []
    },
    {
      "cell_type": "code",
      "metadata": {
        "id": "bDZZuxu0tJ6v",
        "colab_type": "code",
        "colab": {
          "base_uri": "https://localhost:8080/",
          "height": 35
        },
        "outputId": "fda73f5e-0728-4d81-8d9c-0a5ae7908fe4"
      },
      "source": [
        "input_test.shape"
      ],
      "execution_count": 38,
      "outputs": [
        {
          "output_type": "execute_result",
          "data": {
            "text/plain": [
              "(100, 1)"
            ]
          },
          "metadata": {
            "tags": []
          },
          "execution_count": 38
        }
      ]
    },
    {
      "cell_type": "code",
      "metadata": {
        "id": "Nn8FJ-UAtRTe",
        "colab_type": "code",
        "colab": {}
      },
      "source": [
        "x_test = []\n",
        "for i in range(timestep, input_test.shape[0]):\n",
        "    x_test.append(input_test[i-timestep:i,0])\n",
        "x_test = np.array(x_test)\n",
        "x_test = x_test.reshape(x_test.shape[0], x_test.shape[1],1)"
      ],
      "execution_count": 0,
      "outputs": []
    },
    {
      "cell_type": "code",
      "metadata": {
        "id": "JQEv2Pz-t7Jq",
        "colab_type": "code",
        "colab": {
          "base_uri": "https://localhost:8080/",
          "height": 1000
        },
        "outputId": "441b7c35-12ad-4668-ff8c-9192b1853128"
      },
      "source": [
        "from keras.models import Sequential\n",
        "from keras.layers import Dense, SimpleRNN, Dropout,Flatten\n",
        "\n",
        "regressor=Sequential()\n",
        "#first RNN layer\n",
        "regressor.add(SimpleRNN(128,activation=\"relu\",return_sequences=True,input_shape=(x_train.shape[1],1)))\n",
        "regressor.add(Dropout(0.25))\n",
        "#second RNN layer\n",
        "regressor.add(SimpleRNN(256,activation=\"relu\",return_sequences=True))\n",
        "regressor.add(Dropout(0.25))\n",
        "#third RNN layer\n",
        "regressor.add(SimpleRNN(512,activation=\"relu\",return_sequences=True))\n",
        "regressor.add(Dropout(0.35))\n",
        "#fourth RNN layer\n",
        "regressor.add(SimpleRNN(256,activation=\"relu\",return_sequences=True))\n",
        "regressor.add(Dropout(0.25))\n",
        "#fifth RNN layer\n",
        "regressor.add(SimpleRNN(128,activation=\"relu\",return_sequences=True))\n",
        "regressor.add(Dropout(0.25))\n",
        "#convert the matrix to 1-line\n",
        "regressor.add(Flatten())\n",
        "#output layer\n",
        "regressor.add(Dense(1))\n",
        "\n",
        "regressor.compile(optimizer=\"adam\",loss=\"mean_squared_error\")\n",
        "regressor.fit(x_train,y_train,epochs=100,batch_size=64)"
      ],
      "execution_count": 40,
      "outputs": [
        {
          "output_type": "stream",
          "text": [
            "Using TensorFlow backend.\n"
          ],
          "name": "stderr"
        },
        {
          "output_type": "stream",
          "text": [
            "Epoch 1/100\n",
            "2933/2933 [==============================] - 12s 4ms/step - loss: 0.0071\n",
            "Epoch 2/100\n",
            "2933/2933 [==============================] - 10s 3ms/step - loss: 0.0026\n",
            "Epoch 3/100\n",
            "2933/2933 [==============================] - 10s 3ms/step - loss: 0.0016\n",
            "Epoch 4/100\n",
            "2933/2933 [==============================] - 10s 3ms/step - loss: 0.0015\n",
            "Epoch 5/100\n",
            "2933/2933 [==============================] - 10s 3ms/step - loss: 0.0012\n",
            "Epoch 6/100\n",
            "2933/2933 [==============================] - 10s 3ms/step - loss: 0.0010\n",
            "Epoch 7/100\n",
            "2933/2933 [==============================] - 10s 3ms/step - loss: 8.9702e-04\n",
            "Epoch 8/100\n",
            "2933/2933 [==============================] - 10s 3ms/step - loss: 9.9645e-04\n",
            "Epoch 9/100\n",
            "2933/2933 [==============================] - 10s 3ms/step - loss: 0.0010\n",
            "Epoch 10/100\n",
            "2933/2933 [==============================] - 10s 3ms/step - loss: 7.9496e-04\n",
            "Epoch 11/100\n",
            "2933/2933 [==============================] - 10s 3ms/step - loss: 7.1836e-04\n",
            "Epoch 12/100\n",
            "2933/2933 [==============================] - 9s 3ms/step - loss: 7.5970e-04\n",
            "Epoch 13/100\n",
            "2933/2933 [==============================] - 9s 3ms/step - loss: 7.7605e-04\n",
            "Epoch 14/100\n",
            "2933/2933 [==============================] - 10s 3ms/step - loss: 6.7657e-04\n",
            "Epoch 15/100\n",
            "2933/2933 [==============================] - 9s 3ms/step - loss: 7.3267e-04\n",
            "Epoch 16/100\n",
            "2933/2933 [==============================] - 10s 3ms/step - loss: 7.4951e-04\n",
            "Epoch 17/100\n",
            "2933/2933 [==============================] - 9s 3ms/step - loss: 7.6648e-04\n",
            "Epoch 18/100\n",
            "2933/2933 [==============================] - 10s 3ms/step - loss: 5.5767e-04\n",
            "Epoch 19/100\n",
            "2933/2933 [==============================] - 10s 3ms/step - loss: 6.3137e-04\n",
            "Epoch 20/100\n",
            "2933/2933 [==============================] - 9s 3ms/step - loss: 5.9969e-04\n",
            "Epoch 21/100\n",
            "2933/2933 [==============================] - 10s 3ms/step - loss: 5.4302e-04\n",
            "Epoch 22/100\n",
            "2933/2933 [==============================] - 10s 3ms/step - loss: 7.7196e-04\n",
            "Epoch 23/100\n",
            "2933/2933 [==============================] - 10s 3ms/step - loss: 6.4600e-04\n",
            "Epoch 24/100\n",
            "2933/2933 [==============================] - 10s 3ms/step - loss: 4.3684e-04\n",
            "Epoch 25/100\n",
            "2933/2933 [==============================] - 9s 3ms/step - loss: 5.7243e-04\n",
            "Epoch 26/100\n",
            "2933/2933 [==============================] - 9s 3ms/step - loss: 4.8312e-04\n",
            "Epoch 27/100\n",
            "2933/2933 [==============================] - 10s 3ms/step - loss: 4.1766e-04\n",
            "Epoch 28/100\n",
            "2933/2933 [==============================] - 10s 3ms/step - loss: 5.8631e-04\n",
            "Epoch 29/100\n",
            "2933/2933 [==============================] - 9s 3ms/step - loss: 5.4261e-04\n",
            "Epoch 30/100\n",
            "2933/2933 [==============================] - 9s 3ms/step - loss: 4.5783e-04\n",
            "Epoch 31/100\n",
            "2933/2933 [==============================] - 10s 3ms/step - loss: 6.7413e-04\n",
            "Epoch 32/100\n",
            "2933/2933 [==============================] - 10s 3ms/step - loss: 6.4642e-04\n",
            "Epoch 33/100\n",
            "2933/2933 [==============================] - 9s 3ms/step - loss: 6.3749e-04\n",
            "Epoch 34/100\n",
            "2933/2933 [==============================] - 10s 3ms/step - loss: 4.2319e-04\n",
            "Epoch 35/100\n",
            "2933/2933 [==============================] - 9s 3ms/step - loss: 4.4138e-04\n",
            "Epoch 36/100\n",
            "2933/2933 [==============================] - 9s 3ms/step - loss: 4.0727e-04\n",
            "Epoch 37/100\n",
            "2933/2933 [==============================] - 10s 3ms/step - loss: 4.2208e-04\n",
            "Epoch 38/100\n",
            "2933/2933 [==============================] - 9s 3ms/step - loss: 3.5991e-04\n",
            "Epoch 39/100\n",
            "2933/2933 [==============================] - 9s 3ms/step - loss: 4.1313e-04\n",
            "Epoch 40/100\n",
            "2933/2933 [==============================] - 9s 3ms/step - loss: 4.7126e-04\n",
            "Epoch 41/100\n",
            "2933/2933 [==============================] - 9s 3ms/step - loss: 4.9043e-04\n",
            "Epoch 42/100\n",
            "2933/2933 [==============================] - 9s 3ms/step - loss: 4.2914e-04\n",
            "Epoch 43/100\n",
            "2933/2933 [==============================] - 9s 3ms/step - loss: 4.0520e-04\n",
            "Epoch 44/100\n",
            "2933/2933 [==============================] - 9s 3ms/step - loss: 4.5303e-04\n",
            "Epoch 45/100\n",
            "2933/2933 [==============================] - 9s 3ms/step - loss: 4.1756e-04\n",
            "Epoch 46/100\n",
            "2933/2933 [==============================] - 9s 3ms/step - loss: 4.0131e-04\n",
            "Epoch 47/100\n",
            "2933/2933 [==============================] - 9s 3ms/step - loss: 3.5943e-04\n",
            "Epoch 48/100\n",
            "2933/2933 [==============================] - 9s 3ms/step - loss: 4.7149e-04\n",
            "Epoch 49/100\n",
            "2933/2933 [==============================] - 9s 3ms/step - loss: 3.3058e-04\n",
            "Epoch 50/100\n",
            "2933/2933 [==============================] - 10s 3ms/step - loss: 4.4599e-04\n",
            "Epoch 51/100\n",
            "2933/2933 [==============================] - 9s 3ms/step - loss: 5.3946e-04\n",
            "Epoch 52/100\n",
            "2933/2933 [==============================] - 9s 3ms/step - loss: 3.8463e-04\n",
            "Epoch 53/100\n",
            "2933/2933 [==============================] - 9s 3ms/step - loss: 3.8960e-04\n",
            "Epoch 54/100\n",
            "2933/2933 [==============================] - 9s 3ms/step - loss: 4.1039e-04\n",
            "Epoch 55/100\n",
            "2933/2933 [==============================] - 9s 3ms/step - loss: 3.6035e-04\n",
            "Epoch 56/100\n",
            "2933/2933 [==============================] - 9s 3ms/step - loss: 3.9351e-04\n",
            "Epoch 57/100\n",
            "2933/2933 [==============================] - 9s 3ms/step - loss: 3.6989e-04\n",
            "Epoch 58/100\n",
            "2933/2933 [==============================] - 9s 3ms/step - loss: 4.0431e-04\n",
            "Epoch 59/100\n",
            "2933/2933 [==============================] - 9s 3ms/step - loss: 3.4918e-04\n",
            "Epoch 60/100\n",
            "2933/2933 [==============================] - 9s 3ms/step - loss: 3.9142e-04\n",
            "Epoch 61/100\n",
            "2933/2933 [==============================] - 10s 3ms/step - loss: 3.8935e-04\n",
            "Epoch 62/100\n",
            "2933/2933 [==============================] - 10s 3ms/step - loss: 3.3598e-04\n",
            "Epoch 63/100\n",
            "2933/2933 [==============================] - 9s 3ms/step - loss: 3.7444e-04\n",
            "Epoch 64/100\n",
            "2933/2933 [==============================] - 10s 3ms/step - loss: 3.1775e-04\n",
            "Epoch 65/100\n",
            "2933/2933 [==============================] - 9s 3ms/step - loss: 4.6347e-04\n",
            "Epoch 66/100\n",
            "2933/2933 [==============================] - 9s 3ms/step - loss: 4.4626e-04\n",
            "Epoch 67/100\n",
            "2933/2933 [==============================] - 10s 3ms/step - loss: 3.7303e-04\n",
            "Epoch 68/100\n",
            "2933/2933 [==============================] - 9s 3ms/step - loss: 3.7830e-04\n",
            "Epoch 69/100\n",
            "2933/2933 [==============================] - 9s 3ms/step - loss: 3.4842e-04\n",
            "Epoch 70/100\n",
            "2933/2933 [==============================] - 9s 3ms/step - loss: 3.7800e-04\n",
            "Epoch 71/100\n",
            "2933/2933 [==============================] - 9s 3ms/step - loss: 3.4393e-04\n",
            "Epoch 72/100\n",
            "2933/2933 [==============================] - 9s 3ms/step - loss: 3.4555e-04\n",
            "Epoch 73/100\n",
            "2933/2933 [==============================] - 9s 3ms/step - loss: 4.5316e-04\n",
            "Epoch 74/100\n",
            "2933/2933 [==============================] - 9s 3ms/step - loss: 3.2344e-04\n",
            "Epoch 75/100\n",
            "2933/2933 [==============================] - 9s 3ms/step - loss: 3.3107e-04\n",
            "Epoch 76/100\n",
            "2933/2933 [==============================] - 9s 3ms/step - loss: 4.1908e-04\n",
            "Epoch 77/100\n",
            "2933/2933 [==============================] - 9s 3ms/step - loss: 4.7916e-04\n",
            "Epoch 78/100\n",
            "2933/2933 [==============================] - 9s 3ms/step - loss: 4.0125e-04\n",
            "Epoch 79/100\n",
            "2933/2933 [==============================] - 10s 3ms/step - loss: 3.1572e-04\n",
            "Epoch 80/100\n",
            "2933/2933 [==============================] - 10s 3ms/step - loss: 3.4900e-04\n",
            "Epoch 81/100\n",
            "2933/2933 [==============================] - 9s 3ms/step - loss: 3.7917e-04\n",
            "Epoch 82/100\n",
            "2933/2933 [==============================] - 9s 3ms/step - loss: 3.2614e-04\n",
            "Epoch 83/100\n",
            "2933/2933 [==============================] - 9s 3ms/step - loss: 3.5437e-04\n",
            "Epoch 84/100\n",
            "2933/2933 [==============================] - 9s 3ms/step - loss: 5.1341e-04\n",
            "Epoch 85/100\n",
            "2933/2933 [==============================] - 9s 3ms/step - loss: 3.3971e-04\n",
            "Epoch 86/100\n",
            "2933/2933 [==============================] - 9s 3ms/step - loss: 3.5332e-04\n",
            "Epoch 87/100\n",
            "2933/2933 [==============================] - 9s 3ms/step - loss: 3.2087e-04\n",
            "Epoch 88/100\n",
            "2933/2933 [==============================] - 9s 3ms/step - loss: 3.3029e-04\n",
            "Epoch 89/100\n",
            "2933/2933 [==============================] - 9s 3ms/step - loss: 3.8769e-04\n",
            "Epoch 90/100\n",
            "2933/2933 [==============================] - 9s 3ms/step - loss: 3.3288e-04\n",
            "Epoch 91/100\n",
            "2933/2933 [==============================] - 9s 3ms/step - loss: 3.1136e-04\n",
            "Epoch 92/100\n",
            "2933/2933 [==============================] - 9s 3ms/step - loss: 2.7718e-04\n",
            "Epoch 93/100\n",
            "2933/2933 [==============================] - 9s 3ms/step - loss: 3.3205e-04\n",
            "Epoch 94/100\n",
            "2933/2933 [==============================] - 9s 3ms/step - loss: 2.6724e-04\n",
            "Epoch 95/100\n",
            "2933/2933 [==============================] - 9s 3ms/step - loss: 4.1218e-04\n",
            "Epoch 96/100\n",
            "2933/2933 [==============================] - 9s 3ms/step - loss: 4.0362e-04\n",
            "Epoch 97/100\n",
            "2933/2933 [==============================] - 9s 3ms/step - loss: 4.4330e-04\n",
            "Epoch 98/100\n",
            "2933/2933 [==============================] - 9s 3ms/step - loss: 4.1428e-04\n",
            "Epoch 99/100\n",
            "2933/2933 [==============================] - 9s 3ms/step - loss: 3.2001e-04\n",
            "Epoch 100/100\n",
            "2933/2933 [==============================] - 9s 3ms/step - loss: 3.9717e-04\n"
          ],
          "name": "stdout"
        },
        {
          "output_type": "execute_result",
          "data": {
            "text/plain": [
              "<keras.callbacks.callbacks.History at 0x7f273d62af28>"
            ]
          },
          "metadata": {
            "tags": []
          },
          "execution_count": 40
        }
      ]
    },
    {
      "cell_type": "code",
      "metadata": {
        "id": "PnxQIJIpt9Fh",
        "colab_type": "code",
        "colab": {}
      },
      "source": [
        "regressor.save(\"predict_bitcoin.h5\")"
      ],
      "execution_count": 0,
      "outputs": []
    },
    {
      "cell_type": "code",
      "metadata": {
        "id": "f2ag96rjvmi5",
        "colab_type": "code",
        "colab": {}
      },
      "source": [
        "import tensorflow as tf\n",
        "saved_model =  tf.keras.models.load_model('predict_bitcoin.h5')"
      ],
      "execution_count": 0,
      "outputs": []
    },
    {
      "cell_type": "code",
      "metadata": {
        "id": "OBcj-MWivxH6",
        "colab_type": "code",
        "colab": {}
      },
      "source": [
        "predicted_data=saved_model.predict(x_test)\n",
        "predicted_data=scaler.inverse_transform(predicted_data)\n"
      ],
      "execution_count": 0,
      "outputs": []
    },
    {
      "cell_type": "code",
      "metadata": {
        "id": "Q-08JWhuv9sT",
        "colab_type": "code",
        "colab": {}
      },
      "source": [
        "data_test=np.array(close_test)\n",
        "data_test=data_test.reshape(len(data_test),1)\n"
      ],
      "execution_count": 0,
      "outputs": []
    },
    {
      "cell_type": "code",
      "metadata": {
        "id": "YWdgUUm4xOMA",
        "colab_type": "code",
        "colab": {
          "base_uri": "https://localhost:8080/",
          "height": 306
        },
        "outputId": "c96af415-2265-49ca-e085-8491861053f3"
      },
      "source": [
        "plt.figure(figsize=(8,4), dpi=80, facecolor='w', edgecolor='k')\n",
        "plt.plot(data_test,color=\"r\",label=\"true result\")\n",
        "plt.plot(predicted_data,color=\"b\",label=\"predicted result\")\n",
        "plt.legend()\n",
        "plt.xlabel(\"Time(50 days)\")\n",
        "plt.ylabel(\"Close Values\")\n",
        "plt.grid(True)\n",
        "plt.show()"
      ],
      "execution_count": 45,
      "outputs": [
        {
          "output_type": "display_data",
          "data": {
            "image/png": "[encoded data removed]",
            "text/plain": [
              "<Figure size 640x320 with 1 Axes>"
            ]
          },
          "metadata": {
            "tags": []
          }
        }
      ]
    },
    {
      "cell_type": "code",
      "metadata": {
        "id": "OOKWbdKAxSwE",
        "colab_type": "code",
        "colab": {
          "base_uri": "https://localhost:8080/",
          "height": 1000
        },
        "outputId": "da5e7ca6-b527-4cbb-f070-54396e74bed7"
      },
      "source": [
        "from sklearn.metrics import mean_absolute_error\n",
        "from keras.models import Sequential\n",
        "from keras.layers import Dense, LSTM, Dropout,Flatten\n",
        "\n",
        "model=Sequential()\n",
        "\n",
        "model.add(LSTM(10,input_shape=(None,1),activation=\"relu\"))\n",
        "\n",
        "model.add(Dense(1))\n",
        "\n",
        "model.compile(loss=\"mean_squared_error\",optimizer=\"adam\")\n",
        "\n",
        "model.fit(x_train,y_train,epochs=100,batch_size=32)\n"
      ],
      "execution_count": 46,
      "outputs": [
        {
          "output_type": "stream",
          "text": [
            "Epoch 1/100\n",
            "2933/2933 [==============================] - 11s 4ms/step - loss: 0.0238\n",
            "Epoch 2/100\n",
            "2933/2933 [==============================] - 11s 4ms/step - loss: 0.0057\n",
            "Epoch 3/100\n",
            "2933/2933 [==============================] - 10s 4ms/step - loss: 0.0026\n",
            "Epoch 4/100\n",
            "2933/2933 [==============================] - 10s 4ms/step - loss: 0.0013\n",
            "Epoch 5/100\n",
            "2933/2933 [==============================] - 10s 4ms/step - loss: 9.3218e-04\n",
            "Epoch 6/100\n",
            "2933/2933 [==============================] - 10s 4ms/step - loss: 7.4508e-04\n",
            "Epoch 7/100\n",
            "2933/2933 [==============================] - 10s 4ms/step - loss: 6.4443e-04\n",
            "Epoch 8/100\n",
            "2933/2933 [==============================] - 10s 4ms/step - loss: 5.3860e-04\n",
            "Epoch 9/100\n",
            "2933/2933 [==============================] - 10s 4ms/step - loss: 4.7518e-04\n",
            "Epoch 10/100\n",
            "2933/2933 [==============================] - 10s 3ms/step - loss: 4.5724e-04\n",
            "Epoch 11/100\n",
            "2933/2933 [==============================] - 10s 4ms/step - loss: 4.0683e-04\n",
            "Epoch 12/100\n",
            "2933/2933 [==============================] - 10s 4ms/step - loss: 3.8782e-04\n",
            "Epoch 13/100\n",
            "2933/2933 [==============================] - 10s 4ms/step - loss: 3.7116e-04\n",
            "Epoch 14/100\n",
            "2933/2933 [==============================] - 10s 4ms/step - loss: 3.5102e-04\n",
            "Epoch 15/100\n",
            "2933/2933 [==============================] - 10s 3ms/step - loss: 3.3557e-04\n",
            "Epoch 16/100\n",
            "2933/2933 [==============================] - 11s 4ms/step - loss: 3.3202e-04\n",
            "Epoch 17/100\n",
            "2933/2933 [==============================] - 10s 4ms/step - loss: 3.1539e-04\n",
            "Epoch 18/100\n",
            "2933/2933 [==============================] - 11s 4ms/step - loss: 3.1008e-04\n",
            "Epoch 19/100\n",
            "2933/2933 [==============================] - 10s 4ms/step - loss: 3.1183e-04\n",
            "Epoch 20/100\n",
            "2933/2933 [==============================] - 10s 4ms/step - loss: 3.0246e-04\n",
            "Epoch 21/100\n",
            "2933/2933 [==============================] - 10s 4ms/step - loss: 3.0172e-04\n",
            "Epoch 22/100\n",
            "2933/2933 [==============================] - 10s 4ms/step - loss: 2.8624e-04\n",
            "Epoch 23/100\n",
            "2933/2933 [==============================] - 10s 3ms/step - loss: 2.8160e-04\n",
            "Epoch 24/100\n",
            "2933/2933 [==============================] - 10s 3ms/step - loss: 2.7211e-04\n",
            "Epoch 25/100\n",
            "2933/2933 [==============================] - 10s 4ms/step - loss: 2.6764e-04\n",
            "Epoch 26/100\n",
            "2933/2933 [==============================] - 10s 4ms/step - loss: 2.6386e-04\n",
            "Epoch 27/100\n",
            "2933/2933 [==============================] - 10s 4ms/step - loss: 2.6883e-04\n",
            "Epoch 28/100\n",
            "2933/2933 [==============================] - 10s 4ms/step - loss: 2.5054e-04\n",
            "Epoch 29/100\n",
            "2933/2933 [==============================] - 10s 4ms/step - loss: 2.5646e-04\n",
            "Epoch 30/100\n",
            "2933/2933 [==============================] - 10s 4ms/step - loss: 2.6255e-04\n",
            "Epoch 31/100\n",
            "2933/2933 [==============================] - 10s 4ms/step - loss: 2.5618e-04\n",
            "Epoch 32/100\n",
            "2933/2933 [==============================] - 10s 4ms/step - loss: 2.4061e-04\n",
            "Epoch 33/100\n",
            "2933/2933 [==============================] - 10s 3ms/step - loss: 2.3902e-04\n",
            "Epoch 34/100\n",
            "2933/2933 [==============================] - 10s 3ms/step - loss: 2.3341e-04\n",
            "Epoch 35/100\n",
            "2933/2933 [==============================] - 10s 4ms/step - loss: 2.3900e-04\n",
            "Epoch 36/100\n",
            "2933/2933 [==============================] - 10s 4ms/step - loss: 2.2953e-04\n",
            "Epoch 37/100\n",
            "2933/2933 [==============================] - 10s 4ms/step - loss: 2.2268e-04\n",
            "Epoch 38/100\n",
            "2933/2933 [==============================] - 10s 3ms/step - loss: 2.2162e-04\n",
            "Epoch 39/100\n",
            "2933/2933 [==============================] - 10s 4ms/step - loss: 2.2777e-04\n",
            "Epoch 40/100\n",
            "2933/2933 [==============================] - 10s 3ms/step - loss: 2.2185e-04\n",
            "Epoch 41/100\n",
            "2933/2933 [==============================] - 10s 3ms/step - loss: 2.0997e-04\n",
            "Epoch 42/100\n",
            "2933/2933 [==============================] - 10s 4ms/step - loss: 2.0463e-04\n",
            "Epoch 43/100\n",
            "2933/2933 [==============================] - 10s 4ms/step - loss: 2.1063e-04\n",
            "Epoch 44/100\n",
            "2933/2933 [==============================] - 10s 4ms/step - loss: 2.0184e-04\n",
            "Epoch 45/100\n",
            "2933/2933 [==============================] - 10s 4ms/step - loss: 2.0603e-04\n",
            "Epoch 46/100\n",
            "2933/2933 [==============================] - 11s 4ms/step - loss: 2.0216e-04\n",
            "Epoch 47/100\n",
            "2933/2933 [==============================] - 10s 4ms/step - loss: 2.0021e-04\n",
            "Epoch 48/100\n",
            "2933/2933 [==============================] - 11s 4ms/step - loss: 1.9993e-04\n",
            "Epoch 49/100\n",
            "2933/2933 [==============================] - 11s 4ms/step - loss: 1.9252e-04\n",
            "Epoch 50/100\n",
            "2933/2933 [==============================] - 11s 4ms/step - loss: 1.9735e-04\n",
            "Epoch 51/100\n",
            "2933/2933 [==============================] - 10s 4ms/step - loss: 1.8913e-04\n",
            "Epoch 52/100\n",
            "2933/2933 [==============================] - 10s 3ms/step - loss: 1.8737e-04\n",
            "Epoch 53/100\n",
            "2933/2933 [==============================] - 10s 3ms/step - loss: 1.8623e-04\n",
            "Epoch 54/100\n",
            "2933/2933 [==============================] - 10s 3ms/step - loss: 1.8676e-04\n",
            "Epoch 55/100\n",
            "2933/2933 [==============================] - 10s 3ms/step - loss: 1.8668e-04\n",
            "Epoch 56/100\n",
            "2933/2933 [==============================] - 10s 3ms/step - loss: 1.8640e-04\n",
            "Epoch 57/100\n",
            "2933/2933 [==============================] - 10s 3ms/step - loss: 1.7665e-04\n",
            "Epoch 58/100\n",
            "2933/2933 [==============================] - 10s 3ms/step - loss: 1.7983e-04\n",
            "Epoch 59/100\n",
            "2933/2933 [==============================] - 10s 4ms/step - loss: 1.7585e-04\n",
            "Epoch 60/100\n",
            "2933/2933 [==============================] - 10s 3ms/step - loss: 1.7486e-04\n",
            "Epoch 61/100\n",
            "2933/2933 [==============================] - 10s 3ms/step - loss: 1.9159e-04\n",
            "Epoch 62/100\n",
            "2933/2933 [==============================] - 10s 3ms/step - loss: 1.9244e-04\n",
            "Epoch 63/100\n",
            "2933/2933 [==============================] - 10s 3ms/step - loss: 1.6929e-04\n",
            "Epoch 64/100\n",
            "2933/2933 [==============================] - 10s 3ms/step - loss: 1.7608e-04\n",
            "Epoch 65/100\n",
            "2933/2933 [==============================] - 10s 3ms/step - loss: 1.7751e-04\n",
            "Epoch 66/100\n",
            "2933/2933 [==============================] - 10s 3ms/step - loss: 1.7386e-04\n",
            "Epoch 67/100\n",
            "2933/2933 [==============================] - 10s 4ms/step - loss: 1.6777e-04\n",
            "Epoch 68/100\n",
            "2933/2933 [==============================] - 10s 3ms/step - loss: 1.6593e-04\n",
            "Epoch 69/100\n",
            "2933/2933 [==============================] - 10s 3ms/step - loss: 1.5855e-04\n",
            "Epoch 70/100\n",
            "2933/2933 [==============================] - 10s 3ms/step - loss: 1.6774e-04\n",
            "Epoch 71/100\n",
            "2933/2933 [==============================] - 10s 3ms/step - loss: 1.5553e-04\n",
            "Epoch 72/100\n",
            "2933/2933 [==============================] - 10s 3ms/step - loss: 1.5985e-04\n",
            "Epoch 73/100\n",
            "2933/2933 [==============================] - 10s 3ms/step - loss: 1.5238e-04\n",
            "Epoch 74/100\n",
            "2933/2933 [==============================] - 10s 3ms/step - loss: 1.4901e-04\n",
            "Epoch 75/100\n",
            "2933/2933 [==============================] - 10s 3ms/step - loss: 1.4645e-04\n",
            "Epoch 76/100\n",
            "2933/2933 [==============================] - 10s 4ms/step - loss: 1.4574e-04\n",
            "Epoch 77/100\n",
            "2933/2933 [==============================] - 10s 3ms/step - loss: 1.4106e-04\n",
            "Epoch 78/100\n",
            "2933/2933 [==============================] - 10s 3ms/step - loss: 1.4255e-04\n",
            "Epoch 79/100\n",
            "2933/2933 [==============================] - 10s 3ms/step - loss: 1.4825e-04\n",
            "Epoch 80/100\n",
            "2933/2933 [==============================] - 10s 3ms/step - loss: 1.4294e-04\n",
            "Epoch 81/100\n",
            "2933/2933 [==============================] - 10s 4ms/step - loss: 1.3842e-04\n",
            "Epoch 82/100\n",
            "2933/2933 [==============================] - 10s 3ms/step - loss: 1.4047e-04\n",
            "Epoch 83/100\n",
            "2933/2933 [==============================] - 10s 3ms/step - loss: 1.3704e-04\n",
            "Epoch 84/100\n",
            "2933/2933 [==============================] - 10s 3ms/step - loss: 1.3148e-04\n",
            "Epoch 85/100\n",
            "2933/2933 [==============================] - 10s 3ms/step - loss: 1.3826e-04\n",
            "Epoch 86/100\n",
            "2933/2933 [==============================] - 10s 3ms/step - loss: 1.2293e-04\n",
            "Epoch 87/100\n",
            "2933/2933 [==============================] - 10s 3ms/step - loss: 1.2686e-04\n",
            "Epoch 88/100\n",
            "2933/2933 [==============================] - 10s 3ms/step - loss: 1.2242e-04\n",
            "Epoch 89/100\n",
            "2933/2933 [==============================] - 10s 3ms/step - loss: 1.2690e-04\n",
            "Epoch 90/100\n",
            "2933/2933 [==============================] - 10s 3ms/step - loss: 1.2499e-04\n",
            "Epoch 91/100\n",
            "2933/2933 [==============================] - 10s 3ms/step - loss: 1.2285e-04\n",
            "Epoch 92/100\n",
            "2933/2933 [==============================] - 10s 3ms/step - loss: 1.2645e-04\n",
            "Epoch 93/100\n",
            "2933/2933 [==============================] - 10s 3ms/step - loss: 1.2460e-04\n",
            "Epoch 94/100\n",
            "2933/2933 [==============================] - 10s 3ms/step - loss: 1.4636e-04\n",
            "Epoch 95/100\n",
            "2933/2933 [==============================] - 10s 3ms/step - loss: 1.1485e-04\n",
            "Epoch 96/100\n",
            "2933/2933 [==============================] - 10s 3ms/step - loss: 1.1759e-04\n",
            "Epoch 97/100\n",
            "2933/2933 [==============================] - 10s 3ms/step - loss: 1.2433e-04\n",
            "Epoch 98/100\n",
            "2933/2933 [==============================] - 10s 3ms/step - loss: 1.1397e-04\n",
            "Epoch 99/100\n",
            "2933/2933 [==============================] - 10s 3ms/step - loss: 1.2206e-04\n",
            "Epoch 100/100\n",
            "2933/2933 [==============================] - 10s 3ms/step - loss: 1.2471e-04\n"
          ],
          "name": "stdout"
        },
        {
          "output_type": "execute_result",
          "data": {
            "text/plain": [
              "<keras.callbacks.callbacks.History at 0x7f2734671978>"
            ]
          },
          "metadata": {
            "tags": []
          },
          "execution_count": 46
        }
      ]
    },
    {
      "cell_type": "code",
      "metadata": {
        "id": "k--ayr4Yx7WQ",
        "colab_type": "code",
        "colab": {}
      },
      "source": [
        "model.save(\"predict_bitcoin_LSTM.h5\")"
      ],
      "execution_count": 0,
      "outputs": []
    },
    {
      "cell_type": "code",
      "metadata": {
        "id": "id0WpfYgyCq-",
        "colab_type": "code",
        "colab": {
          "base_uri": "https://localhost:8080/",
          "height": 55
        },
        "outputId": "8d91b086-4087-4003-b82e-ea835bd16e03"
      },
      "source": [
        "saved_model =  tf.keras.models.load_model('predict_bitcoin_LSTM.h5')"
      ],
      "execution_count": 52,
      "outputs": [
        {
          "output_type": "stream",
          "text": [
            "WARNING:tensorflow:Layer lstm_1 will not use cuDNN kernel since it doesn't meet the cuDNN kernel criteria. It will use generic GPU kernel as fallback when running on GPU\n"
          ],
          "name": "stdout"
        }
      ]
    },
    {
      "cell_type": "code",
      "metadata": {
        "id": "06L_YDXuyGi8",
        "colab_type": "code",
        "colab": {}
      },
      "source": [
        "predicted_data=saved_model.predict(x_test)\n",
        "predicted_data=scaler.inverse_transform(predicted_data)\n"
      ],
      "execution_count": 0,
      "outputs": []
    },
    {
      "cell_type": "code",
      "metadata": {
        "id": "4mrfx8dnyLR8",
        "colab_type": "code",
        "colab": {
          "base_uri": "https://localhost:8080/",
          "height": 306
        },
        "outputId": "5731c912-7991-44f2-9327-132f80313df6"
      },
      "source": [
        "plt.figure(figsize=(8,4), dpi=80, facecolor='w', edgecolor='k')\n",
        "plt.plot(data_test,color=\"r\",label=\"true result\")\n",
        "plt.plot(predicted_data,color=\"b\",label=\"predicted result\")\n",
        "plt.legend()\n",
        "plt.xlabel(\"Time(50 days)\")\n",
        "plt.ylabel(\"Close Values\")\n",
        "plt.grid(True)\n",
        "plt.show()"
      ],
      "execution_count": 54,
      "outputs": [
        {
          "output_type": "display_data",
          "data": {
            "image/png": "[encoded data removed]",
            "text/plain": [
              "<Figure size 640x320 with 1 Axes>"
            ]
          },
          "metadata": {
            "tags": []
          }
        }
      ]
    }
  ]
}